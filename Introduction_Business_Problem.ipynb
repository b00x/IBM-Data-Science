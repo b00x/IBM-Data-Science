{
 "cells": [
  {
   "cell_type": "markdown",
   "metadata": {},
   "source": [
    "### Introduction/Business Problem"
   ]
  },
  {
   "cell_type": "markdown",
   "metadata": {},
   "source": [
    "In this project, I explore the neighborhoods of the 1st \"Municipio\" (equivalent to Borough) of Rome, Italy. This is the historic heart of the city and contains 22 Rioni (neighborhoods). An enterpreneur wants to know which is the best location where to start a business regarding tourist accomodation; he needs a map showing the existing businesses around the Rioni and the tourist attractions distribution so to get a visual idea about a potentially \"unworked\" area. Furthermore, he wants to have a look at each Rione's top 10 most occurrent venues and to weight his final judgment with the demographics numbers so that, along with existing target businesses, he could have an idea of the number of private citizens living in the area and eventually renting out flats or rooms to tourists."
   ]
  }
 ],
 "metadata": {
  "kernelspec": {
   "display_name": "Python 3",
   "language": "python",
   "name": "python3"
  },
  "language_info": {
   "codemirror_mode": {
    "name": "ipython",
    "version": 3
   },
   "file_extension": ".py",
   "mimetype": "text/x-python",
   "name": "python",
   "nbconvert_exporter": "python",
   "pygments_lexer": "ipython3",
   "version": "3.7.6"
  }
 },
 "nbformat": 4,
 "nbformat_minor": 4
}
