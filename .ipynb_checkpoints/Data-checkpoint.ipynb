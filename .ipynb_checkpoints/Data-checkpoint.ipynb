{
 "cells": [
  {
   "cell_type": "markdown",
   "metadata": {},
   "source": [
    "### Data"
   ]
  },
  {
   "cell_type": "markdown",
   "metadata": {},
   "source": [
    "The data we are looking for are distributed over mainly three sources wow. \n",
    "The <b>first</b> being a kml file taken from a custom map on google mymaps, containing the geographical coordinates for each Rione; we decided not to use any specific kml/xml parsing library (as pykml,lxml,etc.) but parse the file with some self-made code. There will be three final columns: the name of the Rione, its latitude and its longitude.\n",
    "The <b>second</b> source is a Wikipedia page containing info about the number of residents, area (expressed in squared kilometers) and population density (expressed in number of people per squared kilometer) in each Rione. We will mantain all of these information for some final evaluations about the place chosen to install the accomodation business.\n",
    "The <b>third</b> and last piece of information will be gotten from Foursquare, by getting all the venues nearby our neighborhoods location in a 500 meters radius and with a limit of 100 venues. These info will comprise the individual venue's name, latitude and longitude, category."
   ]
  },
  {
   "cell_type": "markdown",
   "metadata": {},
   "source": [
    "A first dataframe will look like this:"
   ]
  },
  {
   "cell_type": "markdown",
   "metadata": {},
   "source": [
    "<img src= 'df1.png' />"
   ]
  },
  {
   "cell_type": "markdown",
   "metadata": {},
   "source": [
    "The second one, joining the first with the demographics will be :"
   ]
  },
  {
   "cell_type": "markdown",
   "metadata": {},
   "source": [
    "<img src= 'df2.png' />"
   ]
  },
  {
   "cell_type": "markdown",
   "metadata": {},
   "source": [
    "And finally a concatenation of the first with the Foursquare requests to the first will be created:"
   ]
  },
  {
   "cell_type": "markdown",
   "metadata": {},
   "source": [
    "<img src= 'romevenues.png' />"
   ]
  },
  {
   "cell_type": "code",
   "execution_count": null,
   "metadata": {},
   "outputs": [],
   "source": []
  }
 ],
 "metadata": {
  "kernelspec": {
   "display_name": "Python 3",
   "language": "python",
   "name": "python3"
  },
  "language_info": {
   "codemirror_mode": {
    "name": "ipython",
    "version": 3
   },
   "file_extension": ".py",
   "mimetype": "text/x-python",
   "name": "python",
   "nbconvert_exporter": "python",
   "pygments_lexer": "ipython3",
   "version": "3.7.6"
  }
 },
 "nbformat": 4,
 "nbformat_minor": 4
}
